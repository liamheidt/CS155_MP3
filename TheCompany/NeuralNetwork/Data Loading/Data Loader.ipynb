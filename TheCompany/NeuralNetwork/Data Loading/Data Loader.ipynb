{
 "cells": [
  {
   "cell_type": "markdown",
   "metadata": {},
   "source": [
    "## Import all dictionaries"
   ]
  },
  {
   "cell_type": "code",
   "execution_count": 1,
   "metadata": {},
   "outputs": [],
   "source": [
    "import numpy as np\n",
    "import pickle\n",
    "\n",
    "\n",
    "File=open('Dictionaries/SyllDict.pkl','rb')\n",
    "SyllDict=pickle.load(File)\n",
    "File.close()\n",
    "\n",
    "File=open('Dictionaries/LessThanEq.pkl','rb')\n",
    "LessThanEq=pickle.load(File)\n",
    "File.close()\n",
    "\n",
    "File=open('Dictionaries/NoStress.pkl','rb')\n",
    "NoStress=pickle.load(File)\n",
    "File.close()\n",
    "\n",
    "File=open('Dictionaries/Pronunciation.pkl','rb')\n",
    "Pronunciation=pickle.load(File)\n",
    "File.close()\n",
    "\n",
    "File=open('Dictionaries/Rhyme.pkl','rb')\n",
    "Rhyme=pickle.load(File)\n",
    "File.close()\n"
   ]
  },
  {
   "cell_type": "markdown",
   "metadata": {},
   "source": [
    "## SyllDict"
   ]
  },
  {
   "cell_type": "markdown",
   "metadata": {},
   "source": [
    "SyllDict is a dictionary for every word in the sonnets that retrns values that are also dictionaries. These dictionaries give the syllables for when the word is (end) or is not (normal) at the end of the sentence. For instnce, \"interest\" has 2 syllables in the middle of a sentence but 3 at the end. SyllDict returns:"
   ]
  },
  {
   "cell_type": "code",
   "execution_count": 2,
   "metadata": {},
   "outputs": [
    {
     "data": {
      "text/plain": [
       "{'normal': [2], 'end': [3], 'min': 2}"
      ]
     },
     "execution_count": 2,
     "metadata": {},
     "output_type": "execute_result"
    }
   ],
   "source": [
    "SyllDict['interest']"
   ]
  },
  {
   "cell_type": "markdown",
   "metadata": {},
   "source": [
    "SyllDict[word][normal] gives the normal syllable count (as a list) and SyllDict[word][end] gives the end syllable count:"
   ]
  },
  {
   "cell_type": "code",
   "execution_count": 3,
   "metadata": {},
   "outputs": [
    {
     "name": "stdout",
     "output_type": "stream",
     "text": [
      "[2]\n",
      "[3]\n"
     ]
    }
   ],
   "source": [
    "print(SyllDict['interest']['normal'])\n",
    "print(SyllDict['interest']['end'])"
   ]
  },
  {
   "cell_type": "markdown",
   "metadata": {},
   "source": [
    "They are given as lists as some words have multiple syllable counts for normal behavior:"
   ]
  },
  {
   "cell_type": "code",
   "execution_count": 4,
   "metadata": {},
   "outputs": [
    {
     "data": {
      "text/plain": [
       "[2, 3]"
      ]
     },
     "execution_count": 4,
     "metadata": {},
     "output_type": "execute_result"
    }
   ],
   "source": [
    "SyllDict['influence']['normal']"
   ]
  },
  {
   "cell_type": "markdown",
   "metadata": {},
   "source": [
    "If the word has no altered end behavior, SyllDict[word][normal]=SyllDict[word][end]:"
   ]
  },
  {
   "cell_type": "code",
   "execution_count": 5,
   "metadata": {},
   "outputs": [
    {
     "data": {
      "text/plain": [
       "[2, 3]"
      ]
     },
     "execution_count": 5,
     "metadata": {},
     "output_type": "execute_result"
    }
   ],
   "source": [
    "SyllDict['influence']['end']"
   ]
  },
  {
   "cell_type": "markdown",
   "metadata": {},
   "source": [
    "Finally, SyllDict[word]['min'] returns the minimum number of syllables for any behavior."
   ]
  },
  {
   "cell_type": "code",
   "execution_count": 6,
   "metadata": {},
   "outputs": [
    {
     "data": {
      "text/plain": [
       "2"
      ]
     },
     "execution_count": 6,
     "metadata": {},
     "output_type": "execute_result"
    }
   ],
   "source": [
    "SyllDict['influence']['min']"
   ]
  },
  {
   "cell_type": "markdown",
   "metadata": {},
   "source": [
    "## LessThanEq"
   ]
  },
  {
   "cell_type": "markdown",
   "metadata": {},
   "source": [
    "LessThanEq[i] is a dictionary of keys $1\\le i\\le10$, and returns dictionaries that are identical in structure to SyllDict, except they only include words whose minimum number of syllables is less than or equal to $i$:"
   ]
  },
  {
   "cell_type": "code",
   "execution_count": 7,
   "metadata": {},
   "outputs": [
    {
     "name": "stdout",
     "output_type": "stream",
     "text": [
      "'gainst\n",
      "'greeing\n",
      "'scaped\n",
      "'tis\n",
      "'twixt\n",
      "a\n",
      "act\n",
      "add\n",
      "age\n",
      "ah\n"
     ]
    }
   ],
   "source": [
    "#just printing the first ten words from LessThanEq[1] (so frst ten words with only one syllable)\n",
    "for i,word in enumerate(LessThanEq[1]):\n",
    "    if i>9:\n",
    "        break\n",
    "    print(word)\n",
    "\n",
    "    "
   ]
  },
  {
   "cell_type": "markdown",
   "metadata": {},
   "source": [
    "Clearly 'greeing doesn't seem like it's only 1 syllable, but it's end behavior is:\n"
   ]
  },
  {
   "cell_type": "code",
   "execution_count": 8,
   "metadata": {},
   "outputs": [
    {
     "name": "stdout",
     "output_type": "stream",
     "text": [
      "{'normal': [2], 'end': [1], 'min': 1}\n",
      "{'normal': [2], 'end': [1], 'min': 1}\n"
     ]
    }
   ],
   "source": [
    "print(LessThanEq[1][\"'greeing\"])\n",
    "print(SyllDict[\"'greeing\"])"
   ]
  },
  {
   "cell_type": "markdown",
   "metadata": {},
   "source": [
    "As all the words are less than ten syllables, LessThanEq[10] should be identical to SyllDict:"
   ]
  },
  {
   "cell_type": "code",
   "execution_count": 9,
   "metadata": {},
   "outputs": [
    {
     "data": {
      "text/plain": [
       "True"
      ]
     },
     "execution_count": 9,
     "metadata": {},
     "output_type": "execute_result"
    }
   ],
   "source": [
    "LessThanEq[10]==SyllDict"
   ]
  },
  {
   "cell_type": "markdown",
   "metadata": {},
   "source": [
    "## NoStress and Pronunciation"
   ]
  },
  {
   "cell_type": "markdown",
   "metadata": {},
   "source": [
    "These simply return the phonetics of a word, with or without stresses. NoStress in scomplete with Pronunciation is incomplete as not all of the stress information is available from CMU"
   ]
  },
  {
   "cell_type": "code",
   "execution_count": 10,
   "metadata": {},
   "outputs": [
    {
     "name": "stdout",
     "output_type": "stream",
     "text": [
      "['AE1 JH AH2 NG K T']\n",
      "['AE JH AH NG K T']\n"
     ]
    }
   ],
   "source": [
    "print(Pronunciation['adjunct'])\n",
    "print(NoStress['adjunct'])"
   ]
  },
  {
   "cell_type": "markdown",
   "metadata": {},
   "source": [
    "The numbets (0,1,2) are the stresses, 0 for no stress, 1 for primary, and 2 for secondary"
   ]
  },
  {
   "cell_type": "markdown",
   "metadata": {},
   "source": [
    "## Rhyme"
   ]
  },
  {
   "cell_type": "markdown",
   "metadata": {},
   "source": [
    "Rhyme (the rhyming dictionary) returns all words that rhyme with the given key:"
   ]
  },
  {
   "cell_type": "code",
   "execution_count": 11,
   "metadata": {},
   "outputs": [
    {
     "name": "stdout",
     "output_type": "stream",
     "text": [
      "abandonment\n",
      "abatement\n",
      "aberrant\n",
      "abhorrent\n",
      "abortifacient\n",
      "abridgement\n",
      "absorbent\n",
      "abstinent\n",
      "abundant\n",
      "accelerant\n",
      "accident\n",
      "accompaniment\n",
      "accomplishment\n",
      "accountant\n",
      "accouterment\n",
      "accoutrement\n"
     ]
    }
   ],
   "source": [
    "for i,word in enumerate(Rhyme['absent']):\n",
    "    if i>15:\n",
    "        break\n",
    "    print(word)"
   ]
  },
  {
   "cell_type": "markdown",
   "metadata": {},
   "source": [
    "$\\textbf{Note:}$, rhyme containes many more words than appear in the sonnets. To ensure words are coming from the sonnet, just make sure they are in SyllDict:"
   ]
  },
  {
   "cell_type": "code",
   "execution_count": 14,
   "metadata": {},
   "outputs": [
    {
     "name": "stdout",
     "output_type": "stream",
     "text": [
      "abundant\n",
      "accident\n"
     ]
    }
   ],
   "source": [
    "for i,word in enumerate(Rhyme['absent']):\n",
    "    if i>15:\n",
    "        break\n",
    "    if word in SyllDict:\n",
    "        print(word)"
   ]
  },
  {
   "cell_type": "markdown",
   "metadata": {},
   "source": [
    "## Usage:"
   ]
  },
  {
   "cell_type": "markdown",
   "metadata": {},
   "source": [
    "So say I need a word that rhymes with drained that will fit in a sentence that is already 9 syllables long:"
   ]
  },
  {
   "cell_type": "code",
   "execution_count": 15,
   "metadata": {},
   "outputs": [
    {
     "name": "stdout",
     "output_type": "stream",
     "text": [
      "All words from sonnets that rhyme with drained\n",
      "reigned 1\n",
      "stained 1\n",
      "strained 2\n",
      "unstained 3\n",
      "profaned 2\n",
      "\n",
      "Word from sonnets that rhyme and are <= 1 syllables:\n",
      " ['reigned', 'stained']\n"
     ]
    }
   ],
   "source": [
    "words=[]\n",
    "Word='drained'\n",
    "RhymeWords=Rhyme[Word].copy()\n",
    "\n",
    "print('All words from sonnets that rhyme with '+ Word)\n",
    "for word in RhymeWords:\n",
    "    if word in SyllDict:\n",
    "        print(word,SyllDict[word]['min'])\n",
    "    if word in LessThanEq[1]:\n",
    "        words.append(word)\n",
    "        \n",
    "        \n",
    "print('\\nWord from sonnets that rhyme and are <= 1 syllables:\\n',words)\n",
    "# RhymeWords\n"
   ]
  },
  {
   "cell_type": "code",
   "execution_count": 17,
   "metadata": {},
   "outputs": [
    {
     "data": {
      "text/plain": [
       "['D R EY N D']"
      ]
     },
     "execution_count": 17,
     "metadata": {},
     "output_type": "execute_result"
    }
   ],
   "source": [
    "NoStress['drained']"
   ]
  },
  {
   "cell_type": "code",
   "execution_count": null,
   "metadata": {},
   "outputs": [],
   "source": []
  }
 ],
 "metadata": {
  "kernelspec": {
   "display_name": "Python 3",
   "language": "python",
   "name": "python3"
  },
  "language_info": {
   "codemirror_mode": {
    "name": "ipython",
    "version": 3
   },
   "file_extension": ".py",
   "mimetype": "text/x-python",
   "name": "python",
   "nbconvert_exporter": "python",
   "pygments_lexer": "ipython3",
   "version": "3.7.3"
  }
 },
 "nbformat": 4,
 "nbformat_minor": 2
}
