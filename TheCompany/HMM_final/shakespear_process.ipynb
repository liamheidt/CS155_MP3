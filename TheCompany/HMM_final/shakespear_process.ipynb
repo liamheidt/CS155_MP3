{
 "cells": [
  {
   "cell_type": "markdown",
   "metadata": {},
   "source": [
    "# This script reads in and pre-processes the data"
   ]
  },
  {
   "cell_type": "code",
   "execution_count": 1,
   "metadata": {},
   "outputs": [],
   "source": [
    "# First read the data in how it currently is\n",
    "\n",
    "file1 = open(\"./shakespeare.txt\",\"r\") \n",
    "Data = file1.readlines()\n",
    "file1.close()\n"
   ]
  },
  {
   "cell_type": "code",
   "execution_count": 2,
   "metadata": {},
   "outputs": [],
   "source": [
    "# Define the parameters of what you want to do\n",
    "\n",
    "#Note the weird sonnets have already been removed - so you will have to do this on your system also if you dont have my txt file of them\n",
    "\n",
    "remove_leading_spaces           = 1\n",
    "remove_trailing_spaces          = 1\n",
    "remove_ending_punctuation       = 1\n",
    "punctuation_to_remove = ['.', ',', ';', ':', '?', '!']\n",
    "#punctuation_to_remove = ['?', '!']\n",
    "\n",
    "make_all_lowercase              = 1\n",
    "remove_empty_lines              = 1\n",
    "remove_next_line_markers        = 0\n",
    "remove_numbers                  = 1\n",
    "data_by_line_or_sonnet          = 2 # 1 for by line, 2 for by sonnet\n",
    "remove_internal_punctuation     = 1\n",
    "#internal_punctuation_to_remove = [\".\", \",\", \";\", \":\", \"?\", \"!\", \"'\"]\n",
    "internal_punctuation_to_remove = [\".\", \",\", \";\", \":\", \"?\", \"!\", \"(\", \")\"]\n",
    "#internal_punctuation_to_remove = [ '?', \"!\", \"(\", \")\"]\n",
    "\n",
    "\n"
   ]
  },
  {
   "cell_type": "code",
   "execution_count": 3,
   "metadata": {},
   "outputs": [],
   "source": [
    "# Make everything lower\n",
    "\n",
    "if make_all_lowercase == 1:\n",
    "    for k in range(len(Data)):\n",
    "        Data[k] = Data[k].lower()"
   ]
  },
  {
   "cell_type": "code",
   "execution_count": 4,
   "metadata": {},
   "outputs": [],
   "source": [
    "# Remove leading spaces\n",
    "if remove_leading_spaces == 1:\n",
    "    for k in range(len(Data)):\n",
    "        while Data[k][0] == ' ':\n",
    "            d = list(Data[k])\n",
    "            Data[k] = \"\".join(d[1:len(d)])"
   ]
  },
  {
   "cell_type": "code",
   "execution_count": 5,
   "metadata": {},
   "outputs": [],
   "source": [
    "#Remove trailing spaces - I don't think there are any - so be careful (I don't know if this works)\n",
    "if remove_trailing_spaces == 1:\n",
    "    for k in range(len(Data)):\n",
    "        while Data[k][-1] == ' ':\n",
    "            d = list(Data[k])\n",
    "            Data[k] = \"\".join(d[0:-1])"
   ]
  },
  {
   "cell_type": "code",
   "execution_count": 6,
   "metadata": {},
   "outputs": [],
   "source": [
    "# Remove empty lines (i,e ones with just '\\n' or '')\n",
    "remove_indx = []\n",
    "if remove_empty_lines == 1:\n",
    "    for k in range(len(Data)):\n",
    "        if Data[k] == '\\n':\n",
    "            remove_indx.append(k)\n",
    "        if Data[k] == '':\n",
    "            remove_indx.append(k)\n",
    "Data2 = []\n",
    "for e in range(len(Data)):\n",
    "    if e not in remove_indx:\n",
    "        Data2.append(Data[e])\n",
    "Data = Data2"
   ]
  },
  {
   "cell_type": "code",
   "execution_count": 7,
   "metadata": {},
   "outputs": [],
   "source": [
    "# Remove next line markers ('\\n')\n",
    "if remove_next_line_markers == 1:\n",
    "    for k in range(len(Data)):\n",
    "        Data[k] = Data[k].replace('\\n', '')"
   ]
  },
  {
   "cell_type": "code",
   "execution_count": 8,
   "metadata": {},
   "outputs": [],
   "source": [
    "# Remove punctuation at end of the lines\n",
    "if remove_ending_punctuation == 1:\n",
    "    for m in range(len(punctuation_to_remove)):\n",
    "        for k in range(len(Data)): \n",
    "\n",
    "            if Data[k][-1] == punctuation_to_remove[m]:\n",
    "                Data[k] = Data[k].replace(punctuation_to_remove[m], '')\n",
    "        "
   ]
  },
  {
   "cell_type": "code",
   "execution_count": 9,
   "metadata": {},
   "outputs": [],
   "source": [
    "# Remove the numbers\n",
    "s = '1234567890'\n",
    "if remove_numbers == 1:\n",
    "    for k in range(len(Data)):\n",
    "        Data[k] = ''.join([i for i in Data[k] if not i.isdigit()])\n"
   ]
  },
  {
   "cell_type": "code",
   "execution_count": 10,
   "metadata": {},
   "outputs": [],
   "source": [
    "# Remove empty lines (i,e ones with just '\\n' or '') - do this again as some have been created\n",
    "remove_indx = []\n",
    "if remove_empty_lines == 1:\n",
    "    for k in range(len(Data)):\n",
    "        if Data[k] == '\\n':\n",
    "            remove_indx.append(k)\n",
    "        if Data[k] == '':\n",
    "            remove_indx.append(k)\n",
    "Data2 = []\n",
    "for e in range(len(Data)):\n",
    "    if e not in remove_indx:\n",
    "        Data2.append(Data[e])\n",
    "Data = Data2\n"
   ]
  },
  {
   "cell_type": "code",
   "execution_count": 15,
   "metadata": {},
   "outputs": [
    {
     "name": "stdout",
     "output_type": "stream",
     "text": [
      "['.', ',', ';', ':', '?', '!', '(', ')']\n"
     ]
    }
   ],
   "source": [
    "# Remove any internal punctuation we want to \n",
    "if remove_internal_punctuation == 1:\n",
    "    s = internal_punctuation_to_remove\n",
    "    print(internal_punctuation_to_remove)\n",
    "    if remove_numbers == 1:\n",
    "        for k in range(len(Data)):\n",
    "            Data[k] = ''.join([i for i in Data[k] if i not in s])"
   ]
  },
  {
   "cell_type": "code",
   "execution_count": 13,
   "metadata": {},
   "outputs": [],
   "source": [
    "f = open('shakespeare_2.txt', 'w')\n",
    "for i in range(0,len(Data)):\n",
    "    #f.write(Data[i] + \"\\n\")\n",
    "    f.write(Data[i])\n",
    "\n",
    "f.close()"
   ]
  }
 ],
 "metadata": {
  "kernelspec": {
   "display_name": "Python 3",
   "language": "python",
   "name": "python3"
  },
  "language_info": {
   "codemirror_mode": {
    "name": "ipython",
    "version": 3
   },
   "file_extension": ".py",
   "mimetype": "text/x-python",
   "name": "python",
   "nbconvert_exporter": "python",
   "pygments_lexer": "ipython3",
   "version": "3.7.4"
  }
 },
 "nbformat": 4,
 "nbformat_minor": 2
}
