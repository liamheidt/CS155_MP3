{
 "cells": [
  {
   "cell_type": "markdown",
   "metadata": {},
   "source": [
    "# This script reads in and pre-processes the data"
   ]
  },
  {
   "cell_type": "code",
   "execution_count": 14,
   "metadata": {},
   "outputs": [],
   "source": [
    "# First read the data in how it currently is\n",
    "\n",
    "file1 = open(\"./data/shakespeare.txt\",\"r\") \n",
    "Data = file1.readlines()\n",
    "file1.close()"
   ]
  },
  {
   "cell_type": "code",
   "execution_count": 48,
   "metadata": {},
   "outputs": [],
   "source": [
    "# Define the parameters of what you want to do\n",
    "\n",
    "#Note the weird sonnets have already been removed - so you will have to do this on your system also if you dont have my txt file of them\n",
    "\n",
    "remove_leading_spaces           = 1\n",
    "remove_trailing_spaces          = 1\n",
    "remove_ending_punctuation       = 1\n",
    "punctuation_to_remove = ['.', ',', ';', ':', '?', '!']\n",
    "make_all_lowercase              = 1\n",
    "remove_empty_lines              = 1\n",
    "remove_next_line_markers        = 1\n",
    "remove_numbers                  = 1\n",
    "data_by_line_or_sonnet          = 1 # 1 for by line, 2 for by sonnet\n",
    "remove_internal_punctuation     = 1\n",
    "internal_punctuation_to_remove = [\".\", \",\", \";\", \":\", \"?\", \"!\", \"-\", \"'\"]\n"
   ]
  },
  {
   "cell_type": "code",
   "execution_count": 49,
   "metadata": {},
   "outputs": [],
   "source": [
    "# Make everything lower\n",
    "\n",
    "if make_all_lowercase == 1:\n",
    "    for k in range(len(Data)):\n",
    "        Data[k] = Data[k].lower()"
   ]
  },
  {
   "cell_type": "code",
   "execution_count": 50,
   "metadata": {},
   "outputs": [],
   "source": [
    "# Remove leading spaces\n",
    "if remove_leading_spaces == 1:\n",
    "    for k in range(len(Data)):\n",
    "        while Data[k][0] == ' ':\n",
    "            d = list(Data[k])\n",
    "            Data[k] = \"\".join(d[1:len(d)])"
   ]
  },
  {
   "cell_type": "code",
   "execution_count": 51,
   "metadata": {},
   "outputs": [],
   "source": [
    "#Remove trailing spaces - I don't think there are any - so be careful (I don't know if this works)\n",
    "if remove_trailing_spaces == 1:\n",
    "    for k in range(len(Data)):\n",
    "        while Data[k][-1] == ' ':\n",
    "            d = list(Data[k])\n",
    "            Data[k] = \"\".join(d[0:-1])"
   ]
  },
  {
   "cell_type": "code",
   "execution_count": 52,
   "metadata": {},
   "outputs": [],
   "source": [
    "# Remove empty lines (i,e ones with just '\\n' or '')\n",
    "remove_indx = []\n",
    "if remove_empty_lines == 1:\n",
    "    for k in range(len(Data)):\n",
    "        if Data[k] == '\\n':\n",
    "            remove_indx.append(k)\n",
    "        if Data[k] == '':\n",
    "            remove_indx.append(k)\n",
    "Data2 = []\n",
    "for e in range(len(Data)):\n",
    "    if e not in remove_indx:\n",
    "        Data2.append(Data[e])\n",
    "Data = Data2"
   ]
  },
  {
   "cell_type": "code",
   "execution_count": 53,
   "metadata": {},
   "outputs": [],
   "source": [
    "# Remove next line markers ('\\n')\n",
    "if remove_next_line_markers == 1:\n",
    "    for k in range(len(Data)):\n",
    "        Data[k] = Data[k].replace('\\n', '')"
   ]
  },
  {
   "cell_type": "code",
   "execution_count": 54,
   "metadata": {},
   "outputs": [],
   "source": [
    "# Remove punctuation at end of the lines\n",
    "if remove_ending_punctuation == 1:\n",
    "    for m in range(len(punctuation_to_remove)):\n",
    "        for k in range(len(Data)): \n",
    "\n",
    "            if Data[k][-1] == punctuation_to_remove[m]:\n",
    "                Data[k] = Data[k].replace(punctuation_to_remove[m], '')\n",
    "        "
   ]
  },
  {
   "cell_type": "code",
   "execution_count": 55,
   "metadata": {},
   "outputs": [],
   "source": [
    "# Remove the numbers\n",
    "s = '1234567890'\n",
    "if remove_numbers == 1:\n",
    "    for k in range(len(Data)):\n",
    "        Data[k] = ''.join([i for i in Data[k] if not i.isdigit()])\n"
   ]
  },
  {
   "cell_type": "code",
   "execution_count": 56,
   "metadata": {},
   "outputs": [],
   "source": [
    "# Remove empty lines (i,e ones with just '\\n' or '') - do this again as some have been created\n",
    "remove_indx = []\n",
    "if remove_empty_lines == 1:\n",
    "    for k in range(len(Data)):\n",
    "        if Data[k] == '\\n':\n",
    "            remove_indx.append(k)\n",
    "        if Data[k] == '':\n",
    "            remove_indx.append(k)\n",
    "Data2 = []\n",
    "for e in range(len(Data)):\n",
    "    if e not in remove_indx:\n",
    "        Data2.append(Data[e])\n",
    "Data = Data2\n"
   ]
  },
  {
   "cell_type": "code",
   "execution_count": 57,
   "metadata": {},
   "outputs": [
    {
     "name": "stdout",
     "output_type": "stream",
     "text": [
      "['.', ',', ';', ':', '?', '!', '-', \"'\"]\n"
     ]
    }
   ],
   "source": [
    "# Remove any internal punctuation we want to \n",
    "if remove_internal_punctuation == 1:\n",
    "    s = internal_punctuation_to_remove\n",
    "    print(internal_punctuation_to_remove)\n",
    "    if remove_numbers == 1:\n",
    "        for k in range(len(Data)):\n",
    "            Data[k] = ''.join([i for i in Data[k] if i not in s])\n",
    "    "
   ]
  },
  {
   "cell_type": "code",
   "execution_count": 58,
   "metadata": {},
   "outputs": [],
   "source": [
    "if data_by_line_or_sonnet == 1:\n",
    "    Datain = Data\n",
    "    \n",
    "if data_by_line_or_sonnet == 2:\n",
    "    counter = 0\n",
    "    for k in range(0, len(Data), 14):\n",
    "        cString = ''\n",
    "        for indx in range(14):\n",
    "            if indx != 0:\n",
    "                cString = cString + ' ' + Data[k + indx]\n",
    "            else: \n",
    "                cString = Data[k]\n",
    "        Data[counter] = cString\n",
    "        counter = counter +  1\n"
   ]
  },
  {
   "cell_type": "code",
   "execution_count": null,
   "metadata": {},
   "outputs": [],
   "source": []
  },
  {
   "cell_type": "code",
   "execution_count": null,
   "metadata": {},
   "outputs": [],
   "source": []
  },
  {
   "cell_type": "code",
   "execution_count": null,
   "metadata": {},
   "outputs": [],
   "source": []
  }
 ],
 "metadata": {
  "kernelspec": {
   "display_name": "Python 3",
   "language": "python",
   "name": "python3"
  },
  "language_info": {
   "codemirror_mode": {
    "name": "ipython",
    "version": 3
   },
   "file_extension": ".py",
   "mimetype": "text/x-python",
   "name": "python",
   "nbconvert_exporter": "python",
   "pygments_lexer": "ipython3",
   "version": "3.7.4"
  }
 },
 "nbformat": 4,
 "nbformat_minor": 2
}
